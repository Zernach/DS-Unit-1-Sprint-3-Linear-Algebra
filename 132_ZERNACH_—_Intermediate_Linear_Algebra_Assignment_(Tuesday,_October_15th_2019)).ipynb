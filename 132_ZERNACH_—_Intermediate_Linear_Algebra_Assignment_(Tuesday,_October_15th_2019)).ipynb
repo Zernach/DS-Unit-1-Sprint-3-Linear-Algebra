{
  "nbformat": 4,
  "nbformat_minor": 0,
  "metadata": {
    "colab": {
      "name": "132 ZERNACH — Intermediate Linear Algebra Assignment (Tuesday, October 15th 2019)).ipynb",
      "provenance": [],
      "collapsed_sections": [],
      "include_colab_link": true
    },
    "kernelspec": {
      "name": "python3",
      "display_name": "Python 3"
    }
  },
  "cells": [
    {
      "cell_type": "markdown",
      "metadata": {
        "id": "view-in-github",
        "colab_type": "text"
      },
      "source": [
        "<a href=\"https://colab.research.google.com/github/Zernach/DS-Unit-1-Sprint-3-Linear-Algebra/blob/master/132_ZERNACH_%E2%80%94_Intermediate_Linear_Algebra_Assignment_(Tuesday%2C_October_15th_2019)).ipynb\" target=\"_parent\"><img src=\"https://colab.research.google.com/assets/colab-badge.svg\" alt=\"Open In Colab\"/></a>"
      ]
    },
    {
      "cell_type": "markdown",
      "metadata": {
        "id": "GSNiYn8lr6nN",
        "colab_type": "text"
      },
      "source": [
        "ASSIGNMENT COMPLETED BY: [RYAN ZERNACH](http://ryan.zernach.com/objectives/)\n",
        "\n",
        "![alt text](http://www.zernach.com/wp-content/uploads/2019/09/Ryan-Zernach-Logo-1-e1568499634499.png)\n",
        "\n",
        "# Statistics"
      ]
    },
    {
      "cell_type": "markdown",
      "metadata": {
        "id": "3d4izUhQvh2_",
        "colab_type": "text"
      },
      "source": [
        "## 1.1 Sales for the past week was the following amounts: [3505, 2400, 3027, 2798, 3700, 3250, 2689]. Without using library functions, what is the mean, variance, and standard deviation of of sales from last week? (for extra bonus points, write your own function that can calculate these three values for any sized list)"
      ]
    },
    {
      "cell_type": "code",
      "metadata": {
        "id": "SQ6ZtMTG04Ps",
        "colab_type": "code",
        "colab": {}
      },
      "source": [
        "import math\n",
        "import pandas as pd\n",
        "import numpy as np\n",
        "\n",
        "def mean_var_std(list):\n",
        "  # MANUALLY COMPUTE THE MEAN OF THE LIST\n",
        "  m_sum = 0\n",
        "  for item in list:\n",
        "    m_sum+=item\n",
        "  mean = m_sum/len(list)\n",
        "\n",
        "  # MANUALLY COMPUTE THE VARIANCE OF THE LIST\n",
        "  v_sum = 0\n",
        "  for item in list:\n",
        "    v_sum += (item - mean)**2\n",
        "  variance = v_sum/len(list)\n",
        "\n",
        "  # MANUALLY COMPUTER THE STD DEVIATION OF THE LIST\n",
        "  std = math.sqrt(variance)\n",
        "\n",
        "  return (mean, variance, std)"
      ],
      "execution_count": 0,
      "outputs": []
    },
    {
      "cell_type": "code",
      "metadata": {
        "id": "w1iZfYvBtEA1",
        "colab_type": "code",
        "colab": {
          "base_uri": "https://localhost:8080/",
          "height": 68
        },
        "outputId": "b87cb238-75f5-4098-91e7-80a78b32830f"
      },
      "source": [
        "sales = [3505, 2400, 3027, 2798, 3700, 3250, 2689]\n",
        "\n",
        "sales_mean, sales_variance, sales_std = mean_var_std(sales)\n",
        "\n",
        "print(\"Mean:\", sales_mean)\n",
        "print(\"Variance:\", sales_variance)\n",
        "print(\"STD Deviation:\", sales_std)"
      ],
      "execution_count": 26,
      "outputs": [
        {
          "output_type": "stream",
          "text": [
            "Mean: 3052.714285714286\n",
            "Variance: 183761.06122448976\n",
            "STD Deviation: 428.67360686714756\n"
          ],
          "name": "stdout"
        }
      ]
    },
    {
      "cell_type": "markdown",
      "metadata": {
        "id": "oh63KaOctEp_",
        "colab_type": "text"
      },
      "source": [
        "## 1.2 Find the covariance between last week's sales numbers and the number of customers that entered the store last week: [127, 80, 105, 92, 120, 115, 93] (you may use librray functions for calculating the covariance since we didn't specifically talk about its formula)"
      ]
    },
    {
      "cell_type": "code",
      "metadata": {
        "id": "ELe-zzXv8wNc",
        "colab_type": "code",
        "colab": {}
      },
      "source": [
        "def covariance(list1, list2):\n",
        "  # MANUALLY COMPUTE THE TWO MEANS OF THE LISTS\n",
        "  sum1 = 0\n",
        "  for item in list1:\n",
        "    sum1 += item\n",
        "  mean1 = sum1/len(list1)\n",
        "\n",
        "  sum2 = 0\n",
        "  for item in list2:\n",
        "    sum2 += item\n",
        "  mean2 = sum2/len(list2)\n",
        "\n",
        "  # MANUALLY COMPUTE THE TOP PART OF COVARIANCE FORMULA\n",
        "  sum = 0\n",
        "  for i, item in enumerate(list1, start=0):\n",
        "    sum += (list1[i] - mean1)(list2[i] - mean2)\n",
        "\n",
        "  # MANUALLY COMPUTE THE COVARIANCE\n",
        "  cov = sum/(len(list1)-1)\n",
        "  return cov"
      ],
      "execution_count": 0,
      "outputs": []
    },
    {
      "cell_type": "code",
      "metadata": {
        "id": "G7ZB0krot564",
        "colab_type": "code",
        "colab": {
          "base_uri": "https://localhost:8080/",
          "height": 333
        },
        "outputId": "628bf418-c7c9-4b8e-dd68-25da2c323585"
      },
      "source": [
        "customers = [127, 80, 105, 92, 120, 115, 93]\n",
        "\n",
        "cov = covariance(sales, customers)\n",
        "print('Covariance:', cov)"
      ],
      "execution_count": 29,
      "outputs": [
        {
          "output_type": "error",
          "ename": "TypeError",
          "evalue": "ignored",
          "traceback": [
            "\u001b[0;31m---------------------------------------------------------------------------\u001b[0m",
            "\u001b[0;31mTypeError\u001b[0m                                 Traceback (most recent call last)",
            "\u001b[0;32m<ipython-input-29-40f9a9f97285>\u001b[0m in \u001b[0;36m<module>\u001b[0;34m()\u001b[0m\n\u001b[1;32m      1\u001b[0m \u001b[0mcustomers\u001b[0m \u001b[0;34m=\u001b[0m \u001b[0;34m[\u001b[0m\u001b[0;36m127\u001b[0m\u001b[0;34m,\u001b[0m \u001b[0;36m80\u001b[0m\u001b[0;34m,\u001b[0m \u001b[0;36m105\u001b[0m\u001b[0;34m,\u001b[0m \u001b[0;36m92\u001b[0m\u001b[0;34m,\u001b[0m \u001b[0;36m120\u001b[0m\u001b[0;34m,\u001b[0m \u001b[0;36m115\u001b[0m\u001b[0;34m,\u001b[0m \u001b[0;36m93\u001b[0m\u001b[0;34m]\u001b[0m\u001b[0;34m\u001b[0m\u001b[0;34m\u001b[0m\u001b[0m\n\u001b[1;32m      2\u001b[0m \u001b[0;34m\u001b[0m\u001b[0m\n\u001b[0;32m----> 3\u001b[0;31m \u001b[0mcov\u001b[0m \u001b[0;34m=\u001b[0m \u001b[0mcovariance\u001b[0m\u001b[0;34m(\u001b[0m\u001b[0msales\u001b[0m\u001b[0;34m,\u001b[0m \u001b[0mcustomers\u001b[0m\u001b[0;34m)\u001b[0m\u001b[0;34m\u001b[0m\u001b[0;34m\u001b[0m\u001b[0m\n\u001b[0m\u001b[1;32m      4\u001b[0m \u001b[0mprint\u001b[0m\u001b[0;34m(\u001b[0m\u001b[0;34m'Covariance:'\u001b[0m\u001b[0;34m,\u001b[0m \u001b[0mcov\u001b[0m\u001b[0;34m)\u001b[0m\u001b[0;34m\u001b[0m\u001b[0;34m\u001b[0m\u001b[0m\n",
            "\u001b[0;32m<ipython-input-28-cd5b92abdb80>\u001b[0m in \u001b[0;36mcovariance\u001b[0;34m(list1, list2)\u001b[0m\n\u001b[1;32m     14\u001b[0m   \u001b[0msum\u001b[0m \u001b[0;34m=\u001b[0m \u001b[0;36m0\u001b[0m\u001b[0;34m\u001b[0m\u001b[0;34m\u001b[0m\u001b[0m\n\u001b[1;32m     15\u001b[0m   \u001b[0;32mfor\u001b[0m \u001b[0mi\u001b[0m\u001b[0;34m,\u001b[0m \u001b[0mitem\u001b[0m \u001b[0;32min\u001b[0m \u001b[0menumerate\u001b[0m\u001b[0;34m(\u001b[0m\u001b[0mlist1\u001b[0m\u001b[0;34m,\u001b[0m \u001b[0mstart\u001b[0m\u001b[0;34m=\u001b[0m\u001b[0;36m0\u001b[0m\u001b[0;34m)\u001b[0m\u001b[0;34m:\u001b[0m\u001b[0;34m\u001b[0m\u001b[0;34m\u001b[0m\u001b[0m\n\u001b[0;32m---> 16\u001b[0;31m     \u001b[0msum\u001b[0m \u001b[0;34m+=\u001b[0m \u001b[0;34m(\u001b[0m\u001b[0mlist1\u001b[0m\u001b[0;34m[\u001b[0m\u001b[0mi\u001b[0m\u001b[0;34m]\u001b[0m \u001b[0;34m-\u001b[0m \u001b[0mmean1\u001b[0m\u001b[0;34m)\u001b[0m\u001b[0;34m(\u001b[0m\u001b[0mlist2\u001b[0m\u001b[0;34m[\u001b[0m\u001b[0mi\u001b[0m\u001b[0;34m]\u001b[0m \u001b[0;34m-\u001b[0m \u001b[0mmean2\u001b[0m\u001b[0;34m)\u001b[0m\u001b[0;34m\u001b[0m\u001b[0;34m\u001b[0m\u001b[0m\n\u001b[0m\u001b[1;32m     17\u001b[0m \u001b[0;34m\u001b[0m\u001b[0m\n\u001b[1;32m     18\u001b[0m   \u001b[0;31m# MANUALLY COMPUTE THE COVARIANCE\u001b[0m\u001b[0;34m\u001b[0m\u001b[0;34m\u001b[0m\u001b[0;34m\u001b[0m\u001b[0m\n",
            "\u001b[0;31mTypeError\u001b[0m: 'float' object is not callable"
          ]
        }
      ]
    },
    {
      "cell_type": "code",
      "metadata": {
        "id": "e5yE48UAB9Wu",
        "colab_type": "code",
        "colab": {}
      },
      "source": [
        "covariance = np.cov(sales, customers)"
      ],
      "execution_count": 0,
      "outputs": []
    },
    {
      "cell_type": "markdown",
      "metadata": {
        "id": "J9SbUY9mt66I",
        "colab_type": "text"
      },
      "source": [
        "## 1.3 Find the standard deviation of customers who entered the store last week. Then, use the standard deviations of both sales and customers to standardize the covariance to find the correlation coefficient that summarizes the relationship between sales and customers. (You may use library functions to check your work.)"
      ]
    },
    {
      "cell_type": "code",
      "metadata": {
        "id": "vFJms2YRrKhY",
        "colab_type": "code",
        "colab": {
          "base_uri": "https://localhost:8080/",
          "height": 51
        },
        "outputId": "811dfb94-1e47-4926-d836-7eef26ba8427"
      },
      "source": [
        "customers_mean, customers_variance, customers_std = (mean_var_std(customers))\n",
        "\n",
        "correlation_coeeficient = covariance/(customers_std*sales_std)\n",
        "\n",
        "correlation_coeeficient"
      ],
      "execution_count": 32,
      "outputs": [
        {
          "output_type": "execute_result",
          "data": {
            "text/plain": [
              "array([[31.66911826,  1.12330631],\n",
              "       [ 1.12330631,  0.04297913]])"
            ]
          },
          "metadata": {
            "tags": []
          },
          "execution_count": 32
        }
      ]
    },
    {
      "cell_type": "markdown",
      "metadata": {
        "id": "IbZVf7nmujPJ",
        "colab_type": "text"
      },
      "source": [
        "## 1.4 Use pandas to import a cleaned version of the titanic dataset from the following link: [Titanic Dataset](https://raw.githubusercontent.com/Geoyi/Cleaning-Titanic-Data/master/titanic_clean.csv)\n",
        "\n",
        "## Calculate the variance-covariance matrix and correlation matrix for the titanic dataset's numeric columns. (you can encode some of the categorical variables and include them as a stretch goal if you finish early)"
      ]
    },
    {
      "cell_type": "code",
      "metadata": {
        "id": "0TWgUIiaCFzq",
        "colab_type": "code",
        "colab": {
          "base_uri": "https://localhost:8080/",
          "height": 547
        },
        "outputId": "d5df9f18-3c4e-4451-dcf3-d689404c4b91"
      },
      "source": [
        "titanic = pd.read_csv(\"https://raw.githubusercontent.com/Geoyi/Cleaning-Titanic-Data/master/titanic_clean.csv\")\n",
        "\n",
        "titanic.head()"
      ],
      "execution_count": 33,
      "outputs": [
        {
          "output_type": "execute_result",
          "data": {
            "text/html": [
              "<div>\n",
              "<style scoped>\n",
              "    .dataframe tbody tr th:only-of-type {\n",
              "        vertical-align: middle;\n",
              "    }\n",
              "\n",
              "    .dataframe tbody tr th {\n",
              "        vertical-align: top;\n",
              "    }\n",
              "\n",
              "    .dataframe thead th {\n",
              "        text-align: right;\n",
              "    }\n",
              "</style>\n",
              "<table border=\"1\" class=\"dataframe\">\n",
              "  <thead>\n",
              "    <tr style=\"text-align: right;\">\n",
              "      <th></th>\n",
              "      <th>Unnamed: 0</th>\n",
              "      <th>pclass</th>\n",
              "      <th>survived</th>\n",
              "      <th>name</th>\n",
              "      <th>sex</th>\n",
              "      <th>age</th>\n",
              "      <th>sibsp</th>\n",
              "      <th>parch</th>\n",
              "      <th>ticket</th>\n",
              "      <th>fare</th>\n",
              "      <th>cabin</th>\n",
              "      <th>embarked</th>\n",
              "      <th>boat</th>\n",
              "      <th>body</th>\n",
              "      <th>home.dest</th>\n",
              "      <th>has_cabin_number</th>\n",
              "    </tr>\n",
              "  </thead>\n",
              "  <tbody>\n",
              "    <tr>\n",
              "      <th>0</th>\n",
              "      <td>1</td>\n",
              "      <td>1.0</td>\n",
              "      <td>1.0</td>\n",
              "      <td>Allen, Miss. Elisabeth Walton</td>\n",
              "      <td>female</td>\n",
              "      <td>29.0000</td>\n",
              "      <td>0.0</td>\n",
              "      <td>0.0</td>\n",
              "      <td>24160</td>\n",
              "      <td>211.3375</td>\n",
              "      <td>B5</td>\n",
              "      <td>S</td>\n",
              "      <td>2</td>\n",
              "      <td>NaN</td>\n",
              "      <td>St Louis, MO</td>\n",
              "      <td>1</td>\n",
              "    </tr>\n",
              "    <tr>\n",
              "      <th>1</th>\n",
              "      <td>2</td>\n",
              "      <td>1.0</td>\n",
              "      <td>1.0</td>\n",
              "      <td>Allison, Master. Hudson Trevor</td>\n",
              "      <td>male</td>\n",
              "      <td>0.9167</td>\n",
              "      <td>1.0</td>\n",
              "      <td>2.0</td>\n",
              "      <td>113781</td>\n",
              "      <td>151.5500</td>\n",
              "      <td>C22 C26</td>\n",
              "      <td>S</td>\n",
              "      <td>11</td>\n",
              "      <td>NaN</td>\n",
              "      <td>Montreal, PQ / Chesterville, ON</td>\n",
              "      <td>1</td>\n",
              "    </tr>\n",
              "    <tr>\n",
              "      <th>2</th>\n",
              "      <td>3</td>\n",
              "      <td>1.0</td>\n",
              "      <td>0.0</td>\n",
              "      <td>Allison, Miss. Helen Loraine</td>\n",
              "      <td>female</td>\n",
              "      <td>2.0000</td>\n",
              "      <td>1.0</td>\n",
              "      <td>2.0</td>\n",
              "      <td>113781</td>\n",
              "      <td>151.5500</td>\n",
              "      <td>C22 C26</td>\n",
              "      <td>S</td>\n",
              "      <td>NaN</td>\n",
              "      <td>NaN</td>\n",
              "      <td>Montreal, PQ / Chesterville, ON</td>\n",
              "      <td>1</td>\n",
              "    </tr>\n",
              "    <tr>\n",
              "      <th>3</th>\n",
              "      <td>4</td>\n",
              "      <td>1.0</td>\n",
              "      <td>0.0</td>\n",
              "      <td>Allison, Mr. Hudson Joshua Creighton</td>\n",
              "      <td>male</td>\n",
              "      <td>30.0000</td>\n",
              "      <td>1.0</td>\n",
              "      <td>2.0</td>\n",
              "      <td>113781</td>\n",
              "      <td>151.5500</td>\n",
              "      <td>C22 C26</td>\n",
              "      <td>S</td>\n",
              "      <td>NaN</td>\n",
              "      <td>135.0</td>\n",
              "      <td>Montreal, PQ / Chesterville, ON</td>\n",
              "      <td>1</td>\n",
              "    </tr>\n",
              "    <tr>\n",
              "      <th>4</th>\n",
              "      <td>5</td>\n",
              "      <td>1.0</td>\n",
              "      <td>0.0</td>\n",
              "      <td>Allison, Mrs. Hudson J C (Bessie Waldo Daniels)</td>\n",
              "      <td>female</td>\n",
              "      <td>25.0000</td>\n",
              "      <td>1.0</td>\n",
              "      <td>2.0</td>\n",
              "      <td>113781</td>\n",
              "      <td>151.5500</td>\n",
              "      <td>C22 C26</td>\n",
              "      <td>S</td>\n",
              "      <td>NaN</td>\n",
              "      <td>NaN</td>\n",
              "      <td>Montreal, PQ / Chesterville, ON</td>\n",
              "      <td>1</td>\n",
              "    </tr>\n",
              "  </tbody>\n",
              "</table>\n",
              "</div>"
            ],
            "text/plain": [
              "   Unnamed: 0  pclass  ...                        home.dest has_cabin_number\n",
              "0           1     1.0  ...                     St Louis, MO                1\n",
              "1           2     1.0  ...  Montreal, PQ / Chesterville, ON                1\n",
              "2           3     1.0  ...  Montreal, PQ / Chesterville, ON                1\n",
              "3           4     1.0  ...  Montreal, PQ / Chesterville, ON                1\n",
              "4           5     1.0  ...  Montreal, PQ / Chesterville, ON                1\n",
              "\n",
              "[5 rows x 16 columns]"
            ]
          },
          "metadata": {
            "tags": []
          },
          "execution_count": 33
        }
      ]
    },
    {
      "cell_type": "code",
      "metadata": {
        "id": "UPV8oBbYLp-F",
        "colab_type": "code",
        "colab": {}
      },
      "source": [
        "age_mean, age_variance, age_std = mean_var_std(titanic['age'])\n",
        "fare_mean, fare_variance, fare_std = mean_var_std(titanic['fare'])"
      ],
      "execution_count": 0,
      "outputs": []
    },
    {
      "cell_type": "code",
      "metadata": {
        "id": "nfEwluvyMY-2",
        "colab_type": "code",
        "colab": {
          "base_uri": "https://localhost:8080/",
          "height": 34
        },
        "outputId": "7a5435a5-bc6a-4797-a89f-910fd2a40137"
      },
      "source": [
        "titanic['survived'].cov(titanic['age'])"
      ],
      "execution_count": 44,
      "outputs": [
        {
          "output_type": "execute_result",
          "data": {
            "text/plain": [
              "-0.31434330031107266"
            ]
          },
          "metadata": {
            "tags": []
          },
          "execution_count": 44
        }
      ]
    },
    {
      "cell_type": "code",
      "metadata": {
        "id": "Ei4r2UVkNXZo",
        "colab_type": "code",
        "colab": {
          "base_uri": "https://localhost:8080/",
          "height": 34
        },
        "outputId": "3b69120f-5dce-4238-d93b-c7367638df29"
      },
      "source": [
        "titanic['survived'].cov(titanic['fare'])"
      ],
      "execution_count": 42,
      "outputs": [
        {
          "output_type": "execute_result",
          "data": {
            "text/plain": [
              "6.1460230752312235"
            ]
          },
          "metadata": {
            "tags": []
          },
          "execution_count": 42
        }
      ]
    },
    {
      "cell_type": "markdown",
      "metadata": {
        "id": "7K0Xfh8MvYkl",
        "colab_type": "text"
      },
      "source": [
        "# Orthogonality"
      ]
    },
    {
      "cell_type": "markdown",
      "metadata": {
        "id": "Pe3eOZ2fvdZ-",
        "colab_type": "text"
      },
      "source": [
        "## 2.1 Plot two vectors that are orthogonal to each other. What is a synonym for orthogonal? (synonym == perpendicular)"
      ]
    },
    {
      "cell_type": "code",
      "metadata": {
        "id": "YLSBk7hJvvCx",
        "colab_type": "code",
        "colab": {
          "base_uri": "https://localhost:8080/",
          "height": 286
        },
        "outputId": "4d53c34c-bda5-45ea-9c19-1e2ea9dad293"
      },
      "source": [
        "import matplotlib.pyplot as plt\n",
        "\n",
        "plt.arrow(0, 0, 1, 5, color='blue', head_width=.5, head_length=.5)\n",
        "plt.arrow(0, 0, 5, -1, color='red', head_width=.5, head_length=.5)\n",
        "plt.xlim(-2, 6)\n",
        "plt.ylim(-2, 6)"
      ],
      "execution_count": 52,
      "outputs": [
        {
          "output_type": "execute_result",
          "data": {
            "text/plain": [
              "(-2, 6)"
            ]
          },
          "metadata": {
            "tags": []
          },
          "execution_count": 52
        },
        {
          "output_type": "display_data",
          "data": {
            "image/png": "[encoded data removed]",
            "text/plain": [
              "<Figure size 432x288 with 1 Axes>"
            ]
          },
          "metadata": {
            "tags": []
          }
        }
      ]
    },
    {
      "cell_type": "markdown",
      "metadata": {
        "id": "7AS4V1Nhvvxz",
        "colab_type": "text"
      },
      "source": [
        "## 2.2 Are the following vectors orthogonal? Why or why not?\n",
        "\n",
        "No, they're not — because the dot product between them does not equal zero.\n",
        "\n",
        "\\begin{align}\n",
        "a = \\begin{bmatrix} -5 \\\\ 3 \\\\ 7 \\end{bmatrix}\n",
        "\\qquad\n",
        "b = \\begin{bmatrix} 6 \\\\ -8 \\\\ 2 \\end{bmatrix}\n",
        "\\end{align}"
      ]
    },
    {
      "cell_type": "code",
      "metadata": {
        "id": "F_-y54YSz47k",
        "colab_type": "code",
        "colab": {
          "base_uri": "https://localhost:8080/",
          "height": 34
        },
        "outputId": "04742e29-755f-46b9-ad69-95f465176c43"
      },
      "source": [
        "np.dot(a, b)"
      ],
      "execution_count": 54,
      "outputs": [
        {
          "output_type": "execute_result",
          "data": {
            "text/plain": [
              "-40"
            ]
          },
          "metadata": {
            "tags": []
          },
          "execution_count": 54
        }
      ]
    },
    {
      "cell_type": "markdown",
      "metadata": {
        "id": "MiNjyqiEz5SG",
        "colab_type": "text"
      },
      "source": [
        "## 2.3 Compute the following values: What do these quantities have in common?\n",
        "\n",
        "## What is $||c||^2$? \n",
        "\n",
        "## What is $c \\cdot c$? \n",
        "\n",
        "## What is $c^{T}c$?\n",
        "\n",
        "\\begin{align}\n",
        "c = \\begin{bmatrix} 2 & -15 & 6 & 20 \\end{bmatrix}\n",
        "\\end{align}"
      ]
    },
    {
      "cell_type": "code",
      "metadata": {
        "id": "IlV_uaYK1EQB",
        "colab_type": "code",
        "colab": {
          "base_uri": "https://localhost:8080/",
          "height": 51
        },
        "outputId": "811f6ced-8427-4616-dc13-d81c7552b8d9"
      },
      "source": [
        "c = [2,\n",
        "     -15,\n",
        "     6,\n",
        "     20]\n",
        "\n",
        "#c_det = np.linalg.det(c)\n",
        "#print('C_Determinant Squared =', c_det*c_det)\n",
        "\n",
        "print('c dot c =', np.dot(c, c))\n",
        "\n",
        "print(\"c_transposed times c =\", (np.array(c).T)*(np.array(c)))"
      ],
      "execution_count": 63,
      "outputs": [
        {
          "output_type": "stream",
          "text": [
            "c dot c = 665\n",
            "c_transposed times c = [  4 225  36 400]\n"
          ],
          "name": "stdout"
        }
      ]
    },
    {
      "cell_type": "markdown",
      "metadata": {
        "id": "MK_TpWqk1Evk",
        "colab_type": "text"
      },
      "source": [
        "# Unit Vectors"
      ]
    },
    {
      "cell_type": "markdown",
      "metadata": {
        "id": "Kpit6WWO1b8l",
        "colab_type": "text"
      },
      "source": [
        "## 3.1 Using Latex, write the following vectors as a linear combination of scalars and unit vectors:\n",
        "\n",
        "\\begin{align}\n",
        "d = \\begin{bmatrix} 7 \\\\ 12 \\end{bmatrix}\n",
        "\\qquad\n",
        "e = \\begin{bmatrix} 2 \\\\ 11 \\\\ -8  \\end{bmatrix}\n",
        "\\end{align}"
      ]
    },
    {
      "cell_type": "markdown",
      "metadata": {
        "id": "oBCj1sDW2ouC",
        "colab_type": "text"
      },
      "source": [
        "d = 7i + 12j\n",
        "\n",
        "e = 2i + 11j - 8k"
      ]
    },
    {
      "cell_type": "markdown",
      "metadata": {
        "id": "dAdUQuep1_yJ",
        "colab_type": "text"
      },
      "source": [
        "## 3.2 Turn vector $f$ into a unit vector:\n",
        "\n",
        "\\begin{align}\n",
        "f = \\begin{bmatrix} 4 & 12 & 11 & 9 & 2 \\end{bmatrix}\n",
        "\\end{align}"
      ]
    },
    {
      "cell_type": "code",
      "metadata": {
        "id": "I3W8ZiHR1_Fa",
        "colab_type": "code",
        "colab": {
          "base_uri": "https://localhost:8080/",
          "height": 129
        },
        "outputId": "78d0bba6-b63e-480e-dc9a-b546aed0423f"
      },
      "source": [
        "f = [4, 12, 11, 9, 2]\n",
        "i_hat = [1]\n",
        "j_hat = [0, 1]\n",
        "k_hat = [0, 0, 1]\n",
        "l_hat = [0, 0, 0, 1]\n",
        "m-hat = [0, 0, 0, 0, 1]\n",
        "\n",
        "f = 4i + 12j + 11k + 9l + 2m"
      ],
      "execution_count": 1,
      "outputs": [
        {
          "output_type": "error",
          "ename": "SyntaxError",
          "evalue": "ignored",
          "traceback": [
            "\u001b[0;36m  File \u001b[0;32m\"<ipython-input-1-6dce66696605>\"\u001b[0;36m, line \u001b[0;32m8\u001b[0m\n\u001b[0;31m    f = 4i + 12j + 11k + 9l + 2m\u001b[0m\n\u001b[0m         ^\u001b[0m\n\u001b[0;31mSyntaxError\u001b[0m\u001b[0;31m:\u001b[0m invalid syntax\n"
          ]
        }
      ]
    },
    {
      "cell_type": "markdown",
      "metadata": {
        "id": "o39UyP-I5lpP",
        "colab_type": "text"
      },
      "source": [
        "# Linear Independence / Dependence "
      ]
    },
    {
      "cell_type": "markdown",
      "metadata": {
        "id": "ajfBqYe45sT5",
        "colab_type": "text"
      },
      "source": [
        "## 4.1 Plot two vectors that are linearly dependent and two vectors that are linearly independent (bonus points if done in $\\mathbb{R}^3$)."
      ]
    },
    {
      "cell_type": "code",
      "metadata": {
        "id": "zdPIc8lRhjIj",
        "colab_type": "code",
        "colab": {
          "base_uri": "https://localhost:8080/",
          "height": 265
        },
        "outputId": "e36b410b-ec00-408e-b76e-bba614c6e62f"
      },
      "source": [
        "from mpl_toolkits.mplot3d import Axes3D\n",
        "\n",
        "vector_3d_1 = [1,\n",
        "             9,\n",
        "             12]\n",
        "\n",
        "vector_3d_2 = [2,\n",
        "               18,\n",
        "               24]\n",
        "\n",
        "fig = plt.figure()\n",
        "ax = fig.add_subplot(111, projection='3d')\n",
        "ax.quiver(0, 0, 0, vector_3d_1[0], vector_3d_1[1], vector_3d_1[2], length = 1, color = 'blue')\n",
        "ax.quiver(0, 0, 0, vector_3d_2[0], vector_3d_2[1], vector_3d_2[2], length = 1, color = 'red')\n",
        "ax.set_xlim([0,10])\n",
        "ax.set_ylim([0,20])\n",
        "ax.set_zlim([0,30])\n",
        "ax.set_xlabel('x')\n",
        "ax.set_ylabel('y')\n",
        "ax.set_zlabel('z')"
      ],
      "execution_count": 67,
      "outputs": [
        {
          "output_type": "execute_result",
          "data": {
            "text/plain": [
              "Text(0.5, 0, 'z')"
            ]
          },
          "metadata": {
            "tags": []
          },
          "execution_count": 67
        },
        {
          "output_type": "display_data",
          "data": {
            "image/png": "[encoded data removed]",
            "text/plain": [
              "<Figure size 432x288 with 1 Axes>"
            ]
          },
          "metadata": {
            "tags": []
          }
        }
      ]
    },
    {
      "cell_type": "code",
      "metadata": {
        "id": "zpyveNQfijTm",
        "colab_type": "code",
        "colab": {
          "base_uri": "https://localhost:8080/",
          "height": 265
        },
        "outputId": "2c7ec1be-af23-45f8-c65c-cf477cc33e44"
      },
      "source": [
        "vector_3d_3 = [1,\n",
        "             9,\n",
        "             12]\n",
        "\n",
        "vector_3d_4 = [3,\n",
        "               10,\n",
        "               18]\n",
        "\n",
        "fig = plt.figure()\n",
        "ax = fig.add_subplot(111, projection='3d')\n",
        "ax.quiver(0, 0, 0, vector_3d_3[0], vector_3d_3[1], vector_3d_3[2], length = 1, color = 'orange')\n",
        "ax.quiver(0, 0, 0, vector_3d_4[0], vector_3d_4[1], vector_3d_4[2], length = 1, color = 'green')\n",
        "ax.set_xlim([0,10])\n",
        "ax.set_ylim([0,20])\n",
        "ax.set_zlim([0,30])\n",
        "ax.set_xlabel('x')\n",
        "ax.set_ylabel('y')\n",
        "ax.set_zlabel('z')"
      ],
      "execution_count": 69,
      "outputs": [
        {
          "output_type": "execute_result",
          "data": {
            "text/plain": [
              "Text(0.5, 0, 'z')"
            ]
          },
          "metadata": {
            "tags": []
          },
          "execution_count": 69
        },
        {
          "output_type": "display_data",
          "data": {
            "image/png": "[encoded data removed]",
            "text/plain": [
              "<Figure size 432x288 with 1 Axes>"
            ]
          },
          "metadata": {
            "tags": []
          }
        }
      ]
    },
    {
      "cell_type": "markdown",
      "metadata": {
        "id": "TrJ0MT_n3SvO",
        "colab_type": "text"
      },
      "source": [
        "# Span"
      ]
    },
    {
      "cell_type": "markdown",
      "metadata": {
        "id": "86iXLzwM2z8l",
        "colab_type": "text"
      },
      "source": [
        "## 5.1 What is the span of the following vectors?\n",
        "\n",
        "\\begin{align}\n",
        "g = \\begin{bmatrix} 1 & 2 \\end{bmatrix}\n",
        "\\qquad\n",
        "h = \\begin{bmatrix} 4 & 8 \\end{bmatrix}\n",
        "\\end{align}"
      ]
    },
    {
      "cell_type": "code",
      "metadata": {
        "id": "G2LK2RWL39Q4",
        "colab_type": "code",
        "colab": {}
      },
      "source": [
        "# (x, 2 x), where x is all real numbers"
      ],
      "execution_count": 0,
      "outputs": []
    },
    {
      "cell_type": "markdown",
      "metadata": {
        "id": "l1deylUj4IHH",
        "colab_type": "text"
      },
      "source": [
        "## 5.2 What is the span of $\\{l, m, n\\}$?\n",
        "\n",
        "\\begin{align}\n",
        "l = \\begin{bmatrix} 1 & 2 & 3 \\end{bmatrix}\n",
        "\\qquad\n",
        "m = \\begin{bmatrix} -1 & 0 & 7 \\end{bmatrix}\n",
        "\\qquad\n",
        "n = \\begin{bmatrix} 4 & 8  & 2\\end{bmatrix}\n",
        "\\end{align}"
      ]
    },
    {
      "cell_type": "code",
      "metadata": {
        "id": "p1i_ueD25ZcP",
        "colab_type": "code",
        "colab": {}
      },
      "source": [
        "#The span is the set of all possible vectors that can be created\n",
        "#with a linear combination (addition/subtraction) of all three vectors."
      ],
      "execution_count": 0,
      "outputs": []
    },
    {
      "cell_type": "markdown",
      "metadata": {
        "id": "IBqe7X1732kX",
        "colab_type": "text"
      },
      "source": [
        "# Basis"
      ]
    },
    {
      "cell_type": "markdown",
      "metadata": {
        "id": "YeUZVHRM6PpT",
        "colab_type": "text"
      },
      "source": [
        "## 6.1 Graph two vectors that form a basis for $\\mathbb{R}^2$\n",
        "\n"
      ]
    },
    {
      "cell_type": "code",
      "metadata": {
        "id": "utvF3Pkt8NP6",
        "colab_type": "code",
        "colab": {
          "base_uri": "https://localhost:8080/",
          "height": 286
        },
        "outputId": "0924783a-5be0-41ad-ac85-bc428fb5e101"
      },
      "source": [
        "import matplotlib.pyplot as plt\n",
        "\n",
        "vector1 = [-1.5,.5] \n",
        "vector2 = [3, 1]\n",
        "\n",
        "plt.arrow(0,0, vector1[0], vector1[1], linewidth=3, head_width=.05, head_length=0.05, color ='green')\n",
        "plt.arrow(0,0, vector2[0], vector2[1], linewidth=3, head_width=.05, head_length=0.05, color ='purple')\n",
        "\n",
        "plt.xlim(-2,3.5)          \n",
        "plt.ylim(-1,3)"
      ],
      "execution_count": 4,
      "outputs": [
        {
          "output_type": "execute_result",
          "data": {
            "text/plain": [
              "(-1, 3)"
            ]
          },
          "metadata": {
            "tags": []
          },
          "execution_count": 4
        },
        {
          "output_type": "display_data",
          "data": {
            "image/png": "[encoded data removed]",
            "text/plain": [
              "<Figure size 432x288 with 1 Axes>"
            ]
          },
          "metadata": {
            "tags": []
          }
        }
      ]
    },
    {
      "cell_type": "markdown",
      "metadata": {
        "id": "20yPFBDUxxnS",
        "colab_type": "text"
      },
      "source": [
        "## 6.2 What does it mean to form a basis?"
      ]
    },
    {
      "cell_type": "markdown",
      "metadata": {
        "id": "3w4tEayT8M0o",
        "colab_type": "text"
      },
      "source": [
        "N-quantity of vectors form a basis if their linear combinations fill the space within that/those dimensions in which they exist."
      ]
    },
    {
      "cell_type": "markdown",
      "metadata": {
        "id": "EHmUxbcY6vD3",
        "colab_type": "text"
      },
      "source": [
        "# Rank"
      ]
    },
    {
      "cell_type": "markdown",
      "metadata": {
        "id": "IpJwt9kw6v8U",
        "colab_type": "text"
      },
      "source": [
        "## 7.1 What is the Rank of P?\n",
        "\n",
        "\\begin{align}\n",
        "P = \\begin{bmatrix} \n",
        "1 & 2 & 3 \\\\\n",
        " -1 & 0 & 7 \\\\\n",
        "4 & 8  & 2\n",
        "\\end{bmatrix}\n",
        "\\end{align}"
      ]
    },
    {
      "cell_type": "markdown",
      "metadata": {
        "id": "gVcubi5KEgua",
        "colab_type": "text"
      },
      "source": [
        "![image.png](data:image/png;base64,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)\n",
        "\n",
        "![image.png](data:image/png;base64,iVBORw0KGgoAAAANSUhEUgAAAAgAAAASCAYAAABmQp92AAAA6UlEQVQoFb1QPQ5EUBCet9lEodE5hVKCQuKnVlKoVDoaN3ACjQNIHELiBBpqp1CpxKw3Ilayq9hip/jem5lv5n3fY7gF3MTjpketfxGmaYI4jsFxHFAUBVzXhXEcd3ncRRAEGEURv+K6rpimKRqGQTmJNE0TLMuiCcYYhGEIwzCcG4j6BkVRoOd5VHnutB3LsoSmaUCSJKjrmoqXf1BVldb3fQ9VVX1/om1blGX5FNl1HXCrRwiCAJubPV2WBUVRxDzPaYLnvu9jkiSUA8dNGGqahrquo23bmGUZzvNMBMbxWP3pvLj4ifACJjSpQcpZRU4AAAAASUVORK5CYII=)"
      ]
    },
    {
      "cell_type": "code",
      "metadata": {
        "id": "o5CPmU4ME3LU",
        "colab_type": "code",
        "colab": {}
      },
      "source": [
        "# Hopefully 3 is the correct answer — thanks, WolframAlpha."
      ],
      "execution_count": 0,
      "outputs": []
    },
    {
      "cell_type": "markdown",
      "metadata": {
        "id": "l3QWOWbTEf0_",
        "colab_type": "text"
      },
      "source": [
        ""
      ]
    },
    {
      "cell_type": "markdown",
      "metadata": {
        "id": "jGqFMBYY7mHD",
        "colab_type": "text"
      },
      "source": [
        "## 7.2 What does the rank of a matrix tell us?"
      ]
    },
    {
      "cell_type": "markdown",
      "metadata": {
        "id": "Vjg1IiCD8nnP",
        "colab_type": "text"
      },
      "source": [
        "The rank of matrix tells us \"the dimensions of the vector space spanned by its columns.\""
      ]
    },
    {
      "cell_type": "markdown",
      "metadata": {
        "id": "0Db2sc_V8QD6",
        "colab_type": "text"
      },
      "source": [
        "# Linear Projections\n",
        "\n",
        "## 8.1 Line $L$ is formed by all of the vectors that can be created by scaling vector $v$ \n",
        "\\begin{align}\n",
        "v = \\begin{bmatrix} 1 & 3 \\end{bmatrix}\n",
        "\\end{align}\n",
        "\n",
        "\\begin{align}\n",
        "w = \\begin{bmatrix} -1 & 2 \\end{bmatrix}\n",
        "\\end{align}\n",
        "\n",
        "## find $proj_{L}(w)$\n",
        "\n",
        "## graph your projected vector to check your work (make sure your axis are square/even)"
      ]
    },
    {
      "cell_type": "code",
      "metadata": {
        "id": "hp5z2WTBCNKx",
        "colab_type": "code",
        "colab": {
          "base_uri": "https://localhost:8080/",
          "height": 269
        },
        "outputId": "b039dfe6-0e72-4459-d0a9-40cb24bedb56"
      },
      "source": [
        "v = [1, 3] \n",
        "w = [-1, 2]\n",
        "proj = np.multiply(.333,v)\n",
        "\n",
        "plt.xlim(-4,3)          \n",
        "plt.ylim(-2,6)\n",
        "\n",
        "plt.plot((-1, 2), (-3, 6), '--', color='b', linewidth=1)\n",
        "plt.arrow(0, 0, proj[0], proj[1], linewidth=3, head_width=.1, head_length=0.1, color ='gray')\n",
        "plt.arrow(0, 0, v[0], v[1], linewidth=3, head_width=.05, head_length=0.05, color ='green')\n",
        "plt.arrow(0, 0, w[0], w[1], linewidth=3, head_width=.05, head_length=0.05, color ='red');"
      ],
      "execution_count": 99,
      "outputs": [
        {
          "output_type": "display_data",
          "data": {
            "image/png": "[encoded data removed]",
            "text/plain": [
              "<Figure size 432x288 with 1 Axes>"
            ]
          },
          "metadata": {
            "tags": []
          }
        }
      ]
    },
    {
      "cell_type": "markdown",
      "metadata": {
        "id": "TKkrPwRM-Oar",
        "colab_type": "text"
      },
      "source": [
        "# Stretch Goal\n",
        "\n",
        "## For vectors that begin at the origin, the coordinates of where the vector ends can be interpreted as regular data points. (See 3Blue1Brown videos about Spans, Basis, etc.)\n",
        "\n",
        "## Write a function that can calculate the linear projection of each point (x,y) (vector) onto the line y=x. run the function and plot the original points in blue and the new projected points on the line y=x in red. \n",
        "\n",
        "## For extra points plot the orthogonal vectors as a dashed line from the original blue points to the projected red points."
      ]
    },
    {
      "cell_type": "code",
      "metadata": {
        "id": "cp52kZra-ykj",
        "colab_type": "code",
        "outputId": "12502200-eafe-4e20-bfb7-2d539c6027cb",
        "colab": {
          "base_uri": "https://localhost:8080/",
          "height": 347
        }
      },
      "source": [
        "import pandas as pd\n",
        "import matplotlib.pyplot as plt\n",
        "\n",
        "# Creating a dataframe for you to work with -Feel free to not use the dataframe if you don't want to.\n",
        "x_values = [1, 4, 7, 3, 9, 4, 5 ]\n",
        "y_values = [4, 2, 5, 0, 8, 2, 8]\n",
        "\n",
        "data = {\"x\": x_values, \"y\": y_values}\n",
        "\n",
        "df = pd.DataFrame(data)\n",
        "\n",
        "df.head()\n",
        "\n",
        "plt.scatter(df.x, df.y)\n",
        "plt.show()"
      ],
      "execution_count": 0,
      "outputs": [
        {
          "output_type": "display_data",
          "data": {
            "image/png": "[encoded data removed]",
            "text/plain": [
              "<matplotlib.figure.Figure at 0x7f787cfb2978>"
            ]
          },
          "metadata": {
            "tags": []
          }
        }
      ]
    },
    {
      "cell_type": "code",
      "metadata": {
        "id": "EZTA6Tj6BGDb",
        "colab_type": "code",
        "colab": {}
      },
      "source": [
        ""
      ],
      "execution_count": 0,
      "outputs": []
    }
  ]
}